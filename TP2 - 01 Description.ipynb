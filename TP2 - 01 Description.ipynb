{
 "cells": [
  {
   "cell_type": "markdown",
   "metadata": {},
   "source": [
    "# <center> TP2 - 01 Description"
   ]
  },
  {
   "cell_type": "markdown",
   "metadata": {},
   "source": [
    "# Objective of TP\n",
    "\n",
    "In this TP you will develop the full **supervised learning pipeline** including the *hyper-parameter tuning* and *model evalutaion*.  \n",
    "\n",
    "You will then apply the pipeline to three algorithms\n",
    "* nearest neighbour\n",
    "* decision tree\n",
    "* default classifier\n",
    "\n",
    "Finally, you will perform *model comparison* and **discuss** its results.\n",
    "\n",
    "### Recommendation:\n",
    "The code you will develop in this TP is to be re-used in TP3 and the exam.  \n",
    "Therefore we recommend you try to make it clear (use comments, when printing say what you print) so that next time it is easier for you to remember what it does.  \n",
    "Also, try to make the code generic so that it can be easilly used for different datasets.   \n",
    "Try to automate as much as possible so that the code does not require too much of your attention, finally you will need to do the same type of analysis not for 3 algorithms but for 5-6."
   ]
  },
  {
   "cell_type": "markdown",
   "metadata": {},
   "source": [
    "## Dataset\n",
    "\n",
    "You will be workig with the same cars dataset as in TP1.  \n",
    "Each group shall be using the same `brands` as in TP1.\n"
   ]
  },
  {
   "cell_type": "code",
   "execution_count": 2,
   "metadata": {},
   "outputs": [],
   "source": [
    "# Load dataset and extract our part\n",
    "import pandas as pd\n",
    "\n",
    "# Reading csv file\n",
    "autos = pd.read_csv('autos.csv',encoding='latin-1')\n",
    "\n",
    "# Extracting the relevant part for our group\n",
    "only_specific_brands = autos.brand.isin(['renault', 'peugeot', 'skoda', 'citroen', 'ford'])\n",
    "autos = autos[only_specific_brands]"
   ]
  },
  {
   "cell_type": "code",
   "execution_count": 3,
   "metadata": {},
   "outputs": [
    {
     "data": {
      "text/html": [
       "<div>\n",
       "<style scoped>\n",
       "    .dataframe tbody tr th:only-of-type {\n",
       "        vertical-align: middle;\n",
       "    }\n",
       "\n",
       "    .dataframe tbody tr th {\n",
       "        vertical-align: top;\n",
       "    }\n",
       "\n",
       "    .dataframe thead th {\n",
       "        text-align: right;\n",
       "    }\n",
       "</style>\n",
       "<table border=\"1\" class=\"dataframe\">\n",
       "  <thead>\n",
       "    <tr style=\"text-align: right;\">\n",
       "      <th></th>\n",
       "      <th>price</th>\n",
       "      <th>vehicleType</th>\n",
       "      <th>yearOfRegistration</th>\n",
       "      <th>gearbox</th>\n",
       "      <th>powerPS</th>\n",
       "      <th>model</th>\n",
       "      <th>kilometer</th>\n",
       "      <th>fuelType</th>\n",
       "      <th>brand</th>\n",
       "      <th>notRepairedDamage</th>\n",
       "      <th>fast_sale</th>\n",
       "    </tr>\n",
       "  </thead>\n",
       "  <tbody>\n",
       "    <tr>\n",
       "      <th>2</th>\n",
       "      <td>11400.0</td>\n",
       "      <td>limousine</td>\n",
       "      <td>2010.0</td>\n",
       "      <td>manuell</td>\n",
       "      <td>175.0</td>\n",
       "      <td>mondeo</td>\n",
       "      <td>125000.0</td>\n",
       "      <td>diesel</td>\n",
       "      <td>ford</td>\n",
       "      <td>nein</td>\n",
       "      <td>False</td>\n",
       "    </tr>\n",
       "    <tr>\n",
       "      <th>4</th>\n",
       "      <td>4100.0</td>\n",
       "      <td>kleinwagen</td>\n",
       "      <td>2009.0</td>\n",
       "      <td>manuell</td>\n",
       "      <td>68.0</td>\n",
       "      <td>1_reihe</td>\n",
       "      <td>90000.0</td>\n",
       "      <td>benzin</td>\n",
       "      <td>peugeot</td>\n",
       "      <td>nein</td>\n",
       "      <td>False</td>\n",
       "    </tr>\n",
       "    <tr>\n",
       "      <th>6</th>\n",
       "      <td>888.0</td>\n",
       "      <td>kombi</td>\n",
       "      <td>2000.0</td>\n",
       "      <td>manuell</td>\n",
       "      <td>115.0</td>\n",
       "      <td>mondeo</td>\n",
       "      <td>150000.0</td>\n",
       "      <td>benzin</td>\n",
       "      <td>ford</td>\n",
       "      <td>nein</td>\n",
       "      <td>True</td>\n",
       "    </tr>\n",
       "    <tr>\n",
       "      <th>7</th>\n",
       "      <td>13700.0</td>\n",
       "      <td>bus</td>\n",
       "      <td>2012.0</td>\n",
       "      <td>manuell</td>\n",
       "      <td>86.0</td>\n",
       "      <td>roomster</td>\n",
       "      <td>5000.0</td>\n",
       "      <td>benzin</td>\n",
       "      <td>skoda</td>\n",
       "      <td>nein</td>\n",
       "      <td>True</td>\n",
       "    </tr>\n",
       "    <tr>\n",
       "      <th>9</th>\n",
       "      <td>4299.0</td>\n",
       "      <td>kleinwagen</td>\n",
       "      <td>2010.0</td>\n",
       "      <td>manuell</td>\n",
       "      <td>75.0</td>\n",
       "      <td>2_reihe</td>\n",
       "      <td>125000.0</td>\n",
       "      <td>benzin</td>\n",
       "      <td>peugeot</td>\n",
       "      <td>nein</td>\n",
       "      <td>False</td>\n",
       "    </tr>\n",
       "  </tbody>\n",
       "</table>\n",
       "</div>"
      ],
      "text/plain": [
       "     price vehicleType  yearOfRegistration  gearbox  powerPS     model  \\\n",
       "2  11400.0   limousine              2010.0  manuell    175.0    mondeo   \n",
       "4   4100.0  kleinwagen              2009.0  manuell     68.0   1_reihe   \n",
       "6    888.0       kombi              2000.0  manuell    115.0    mondeo   \n",
       "7  13700.0         bus              2012.0  manuell     86.0  roomster   \n",
       "9   4299.0  kleinwagen              2010.0  manuell     75.0   2_reihe   \n",
       "\n",
       "   kilometer fuelType    brand notRepairedDamage  fast_sale  \n",
       "2   125000.0   diesel     ford              nein      False  \n",
       "4    90000.0   benzin  peugeot              nein      False  \n",
       "6   150000.0   benzin     ford              nein       True  \n",
       "7     5000.0   benzin    skoda              nein       True  \n",
       "9   125000.0   benzin  peugeot              nein      False  "
      ]
     },
     "execution_count": 3,
     "metadata": {},
     "output_type": "execute_result"
    }
   ],
   "source": [
    "autos.head()"
   ]
  },
  {
   "cell_type": "markdown",
   "metadata": {},
   "source": [
    "# Data preprocessing\n",
    "\n",
    "Remember that after loading the dataset, there are several preprocessing steps you need to do before trainign the algorithm.\n",
    "If you are not sure what these are, see *Course 8 - 02 Hyper-parameter tuning*.\n",
    "\n",
    "When writing the code, **put short comments explaining what the pre-processing steps are and why you need to do them**."
   ]
  },
  {
   "cell_type": "markdown",
   "metadata": {},
   "source": [
    "---------------------------\n",
    "# Comments & Coding\n",
    "- The name change makes the table easier to read \n",
    "- We change the types because it will facilitate the data processing(classify the data in numeric or categorical)"
   ]
  },
  {
   "cell_type": "code",
   "execution_count": 4,
   "metadata": {},
   "outputs": [],
   "source": [
    "# Changing the column names\n",
    "autos.columns = ['price', 'vehicle_type', 'registration_year', 'gearbox', 'power_ps', 'model', \n",
    "                 'kilometer', 'fuel_type', 'brand', 'unrepaired_damage', 'fast_sale']\n",
    "# Converting column 'unrepaired_damage' from object to boolean type\n",
    "autos['unrepaired_damage'] = (autos['unrepaired_damage']\n",
    "                 .str.replace('nein','')\n",
    "                 .str.replace('ja','True')\n",
    "                  .astype(object)\n",
    "                 )\n",
    "# Converting column 'registration_year' from float to int.\n",
    "autos['registration_year'] = (autos['registration_year'].astype(int))"
   ]
  },
  {
   "cell_type": "code",
   "execution_count": 7,
   "metadata": {},
   "outputs": [
    {
     "name": "stdout",
     "output_type": "stream",
     "text": [
      "<class 'pandas.core.frame.DataFrame'>\n",
      "Int64Index: 28401 entries, 2 to 166073\n",
      "Data columns (total 11 columns):\n",
      "price                28401 non-null float64\n",
      "vehicle_type         28401 non-null object\n",
      "registration_year    28401 non-null float64\n",
      "gearbox              28401 non-null object\n",
      "power_ps             28401 non-null float64\n",
      "model                28401 non-null object\n",
      "kilometer            28401 non-null float64\n",
      "fuel_type            28401 non-null object\n",
      "brand                28401 non-null object\n",
      "unrepaired_damage    28401 non-null bool\n",
      "fast_sale            28401 non-null bool\n",
      "dtypes: bool(2), float64(4), object(5)\n",
      "memory usage: 2.2+ MB\n"
     ]
    },
    {
     "data": {
      "text/plain": [
       "None"
      ]
     },
     "metadata": {},
     "output_type": "display_data"
    },
    {
     "data": {
      "text/html": [
       "<div>\n",
       "<style scoped>\n",
       "    .dataframe tbody tr th:only-of-type {\n",
       "        vertical-align: middle;\n",
       "    }\n",
       "\n",
       "    .dataframe tbody tr th {\n",
       "        vertical-align: top;\n",
       "    }\n",
       "\n",
       "    .dataframe thead th {\n",
       "        text-align: right;\n",
       "    }\n",
       "</style>\n",
       "<table border=\"1\" class=\"dataframe\">\n",
       "  <thead>\n",
       "    <tr style=\"text-align: right;\">\n",
       "      <th></th>\n",
       "      <th>price</th>\n",
       "      <th>registration_year</th>\n",
       "      <th>power_ps</th>\n",
       "      <th>kilometer</th>\n",
       "    </tr>\n",
       "  </thead>\n",
       "  <tbody>\n",
       "    <tr>\n",
       "      <th>count</th>\n",
       "      <td>28401.000000</td>\n",
       "      <td>28401.000000</td>\n",
       "      <td>28401.000000</td>\n",
       "      <td>28401.000000</td>\n",
       "    </tr>\n",
       "    <tr>\n",
       "      <th>mean</th>\n",
       "      <td>4177.515017</td>\n",
       "      <td>2003.965565</td>\n",
       "      <td>102.402979</td>\n",
       "      <td>121472.307313</td>\n",
       "    </tr>\n",
       "    <tr>\n",
       "      <th>std</th>\n",
       "      <td>4680.629533</td>\n",
       "      <td>5.872460</td>\n",
       "      <td>40.664873</td>\n",
       "      <td>39816.529262</td>\n",
       "    </tr>\n",
       "    <tr>\n",
       "      <th>min</th>\n",
       "      <td>1.000000</td>\n",
       "      <td>1923.000000</td>\n",
       "      <td>2.000000</td>\n",
       "      <td>5000.000000</td>\n",
       "    </tr>\n",
       "    <tr>\n",
       "      <th>25%</th>\n",
       "      <td>1199.000000</td>\n",
       "      <td>2001.000000</td>\n",
       "      <td>75.000000</td>\n",
       "      <td>100000.000000</td>\n",
       "    </tr>\n",
       "    <tr>\n",
       "      <th>50%</th>\n",
       "      <td>2500.000000</td>\n",
       "      <td>2004.000000</td>\n",
       "      <td>101.000000</td>\n",
       "      <td>150000.000000</td>\n",
       "    </tr>\n",
       "    <tr>\n",
       "      <th>75%</th>\n",
       "      <td>5400.000000</td>\n",
       "      <td>2008.000000</td>\n",
       "      <td>122.000000</td>\n",
       "      <td>150000.000000</td>\n",
       "    </tr>\n",
       "    <tr>\n",
       "      <th>max</th>\n",
       "      <td>73500.000000</td>\n",
       "      <td>2016.000000</td>\n",
       "      <td>952.000000</td>\n",
       "      <td>150000.000000</td>\n",
       "    </tr>\n",
       "  </tbody>\n",
       "</table>\n",
       "</div>"
      ],
      "text/plain": [
       "              price  registration_year      power_ps      kilometer\n",
       "count  28401.000000       28401.000000  28401.000000   28401.000000\n",
       "mean    4177.515017        2003.965565    102.402979  121472.307313\n",
       "std     4680.629533           5.872460     40.664873   39816.529262\n",
       "min        1.000000        1923.000000      2.000000    5000.000000\n",
       "25%     1199.000000        2001.000000     75.000000  100000.000000\n",
       "50%     2500.000000        2004.000000    101.000000  150000.000000\n",
       "75%     5400.000000        2008.000000    122.000000  150000.000000\n",
       "max    73500.000000        2016.000000    952.000000  150000.000000"
      ]
     },
     "execution_count": 7,
     "metadata": {},
     "output_type": "execute_result"
    }
   ],
   "source": [
    "display(autos.info())\n",
    "autos.describe()"
   ]
  },
  {
   "cell_type": "markdown",
   "metadata": {},
   "source": [
    "-----------------------------------------------------------------"
   ]
  },
  {
   "cell_type": "markdown",
   "metadata": {},
   "source": [
    "# Prepare for model evaluation and hyper-parameter tuning"
   ]
  },
  {
   "cell_type": "markdown",
   "metadata": {},
   "source": [
    "### Data splits for model evaluation (training and testing)\n",
    "\n",
    "You will need to write the code splitting the data to training set (used for model learning and hyper-parameter tuning) and test set used for final model evaluation (test error).\n",
    "\n",
    "Here, you can choose to **use either 5-folds cross-validation or 5 time repeated hold-out method.**\n",
    "\n",
    "**Tell us what your choice is and why**. Both choices are good, we just want to know that you understand the differences and you have thought about them.\n",
    "\n",
    "Remember that in the end this procedure will be used for all your algorithms and that these should work over the same train/test splits. You can make sure this will be the case by fixing the seed for the random sample generation."
   ]
  },
  {
   "cell_type": "markdown",
   "metadata": {},
   "source": [
    "--------------------------------------\n",
    "# Comments & Coding\n",
    "We have chose the cross-validation. Without doubt, that it's a longer method but on the other hand, it's more precise."
   ]
  },
  {
   "cell_type": "code",
   "execution_count": 26,
   "metadata": {
    "scrolled": false
   },
   "outputs": [
    {
     "name": "stdout",
     "output_type": "stream",
     "text": [
      "train: [    0     1     2 ... 28398 28399 28400] test: [    8    20    23 ... 28386 28387 28393]\n",
      "train: [    0     1     2 ... 28398 28399 28400] test: [    9    10    12 ... 28374 28376 28392]\n",
      "train: [    0     1     4 ... 28398 28399 28400] test: [    2     3     7 ... 28362 28381 28396]\n",
      "train: [    1     2     3 ... 28398 28399 28400] test: [    0     4     6 ... 28385 28388 28390]\n",
      "train: [    0     2     3 ... 28392 28393 28396] test: [    1     5    13 ... 28398 28399 28400]\n",
      "Test outputs\n"
     ]
    },
    {
     "data": {
      "text/plain": [
       "4     False\n",
       "14    False\n",
       "66    False\n",
       "79    False\n",
       "80    False\n",
       "Name: fast_sale, dtype: bool"
      ]
     },
     "metadata": {},
     "output_type": "display_data"
    },
    {
     "name": "stdout",
     "output_type": "stream",
     "text": [
      "Test inputs\n"
     ]
    },
    {
     "data": {
      "text/html": [
       "<div>\n",
       "<style scoped>\n",
       "    .dataframe tbody tr th:only-of-type {\n",
       "        vertical-align: middle;\n",
       "    }\n",
       "\n",
       "    .dataframe tbody tr th {\n",
       "        vertical-align: top;\n",
       "    }\n",
       "\n",
       "    .dataframe thead th {\n",
       "        text-align: right;\n",
       "    }\n",
       "</style>\n",
       "<table border=\"1\" class=\"dataframe\">\n",
       "  <thead>\n",
       "    <tr style=\"text-align: right;\">\n",
       "      <th></th>\n",
       "      <th>price</th>\n",
       "      <th>vehicle_type</th>\n",
       "      <th>registration_year</th>\n",
       "      <th>gearbox</th>\n",
       "      <th>power_ps</th>\n",
       "      <th>model</th>\n",
       "      <th>kilometer</th>\n",
       "      <th>fuel_type</th>\n",
       "      <th>brand</th>\n",
       "      <th>unrepaired_damage</th>\n",
       "    </tr>\n",
       "  </thead>\n",
       "  <tbody>\n",
       "    <tr>\n",
       "      <th>4</th>\n",
       "      <td>4100.0</td>\n",
       "      <td>kleinwagen</td>\n",
       "      <td>2009.0</td>\n",
       "      <td>manuell</td>\n",
       "      <td>68.0</td>\n",
       "      <td>1_reihe</td>\n",
       "      <td>90000.0</td>\n",
       "      <td>benzin</td>\n",
       "      <td>peugeot</td>\n",
       "      <td>False</td>\n",
       "    </tr>\n",
       "    <tr>\n",
       "      <th>14</th>\n",
       "      <td>6500.0</td>\n",
       "      <td>kleinwagen</td>\n",
       "      <td>2013.0</td>\n",
       "      <td>manuell</td>\n",
       "      <td>75.0</td>\n",
       "      <td>citigo</td>\n",
       "      <td>40000.0</td>\n",
       "      <td>benzin</td>\n",
       "      <td>skoda</td>\n",
       "      <td>False</td>\n",
       "    </tr>\n",
       "    <tr>\n",
       "      <th>66</th>\n",
       "      <td>1600.0</td>\n",
       "      <td>limousine</td>\n",
       "      <td>2002.0</td>\n",
       "      <td>manuell</td>\n",
       "      <td>116.0</td>\n",
       "      <td>focus</td>\n",
       "      <td>150000.0</td>\n",
       "      <td>diesel</td>\n",
       "      <td>ford</td>\n",
       "      <td>False</td>\n",
       "    </tr>\n",
       "    <tr>\n",
       "      <th>79</th>\n",
       "      <td>3900.0</td>\n",
       "      <td>bus</td>\n",
       "      <td>2002.0</td>\n",
       "      <td>manuell</td>\n",
       "      <td>90.0</td>\n",
       "      <td>berlingo</td>\n",
       "      <td>150000.0</td>\n",
       "      <td>diesel</td>\n",
       "      <td>citroen</td>\n",
       "      <td>False</td>\n",
       "    </tr>\n",
       "    <tr>\n",
       "      <th>80</th>\n",
       "      <td>3000.0</td>\n",
       "      <td>suv</td>\n",
       "      <td>1993.0</td>\n",
       "      <td>automatik</td>\n",
       "      <td>136.0</td>\n",
       "      <td>andere</td>\n",
       "      <td>150000.0</td>\n",
       "      <td>benzin</td>\n",
       "      <td>ford</td>\n",
       "      <td>False</td>\n",
       "    </tr>\n",
       "  </tbody>\n",
       "</table>\n",
       "</div>"
      ],
      "text/plain": [
       "     price vehicle_type  registration_year    gearbox  power_ps     model  \\\n",
       "4   4100.0   kleinwagen             2009.0    manuell      68.0   1_reihe   \n",
       "14  6500.0   kleinwagen             2013.0    manuell      75.0    citigo   \n",
       "66  1600.0    limousine             2002.0    manuell     116.0     focus   \n",
       "79  3900.0          bus             2002.0    manuell      90.0  berlingo   \n",
       "80  3000.0          suv             1993.0  automatik     136.0    andere   \n",
       "\n",
       "    kilometer fuel_type    brand  unrepaired_damage  \n",
       "4     90000.0    benzin  peugeot              False  \n",
       "14    40000.0    benzin    skoda              False  \n",
       "66   150000.0    diesel     ford              False  \n",
       "79   150000.0    diesel  citroen              False  \n",
       "80   150000.0    benzin     ford              False  "
      ]
     },
     "metadata": {},
     "output_type": "display_data"
    }
   ],
   "source": [
    "from sklearn.model_selection import KFold\n",
    "\n",
    "out_autos = autos['fast_sale']\n",
    "in_autos = autos.iloc[:,[0,1,2,3,4,5,6,7,8,9]]\n",
    "\n",
    "num_of_splits = 5\n",
    "kf = KFold(n_splits=num_of_splits, random_state=123, shuffle=True) \n",
    "\n",
    "for train_idx,test_idx in kf.split(in_autos,out_autos):\n",
    "    print(\"train:\", train_idx, \"test:\", test_idx)\n",
    "\n",
    "print('Test outputs')\n",
    "display(out_autos.iloc[test_idx].head())\n",
    "print('Test inputs')\n",
    "display(in_autos.iloc[test_idx].head())"
   ]
  },
  {
   "cell_type": "markdown",
   "metadata": {},
   "source": [
    "### Data splits for hyper-parameter tuning\n",
    "\n",
    "Here we want you to **use 3-folds inner cross validation**.\n",
    "\n",
    "You will need to write the code to split each of the training sets above to train/validation accoridng to the 3-fold cross-validation strategy."
   ]
  },
  {
   "cell_type": "markdown",
   "metadata": {},
   "source": [
    "### Generalization accuracy\n",
    "\n",
    "You will also need to prepere the code that will use the trained models to produce predictions for the test instances, calculate the accuracy of over each test set, and calculate the final average accuracy over all the test instances (estimate of generalization accuracy)."
   ]
  },
  {
   "cell_type": "markdown",
   "metadata": {},
   "source": [
    "# Train and test nearest neigbour model\n",
    "\n",
    "Once you have the general procedure in place, train the nearest neigbour model.\n",
    "\n",
    "### Hyper-parameter search\n",
    "\n",
    "Hyper-parameter in nearest neighbour algorithm is the number of neighbours to use.\n",
    "We want you to try at least 5 different values. **Tell us which values you decide to try.** (There is no Why questoin here.)\n",
    "\n",
    "Remember that for choosing the best hyper-parameter value, you use the the inner cross validation and the best hyper-parameter is the one with the highest average accuracy over the validation sets.\n",
    "\n",
    "### Model lerning and test accuracy\n",
    "\n",
    "Once you have the best value of the hyper-parameter, you use it to **retrain** the model over the merged train+validation (you do this 5 times, see above *Data splits for model evaluation*). You then use this **retrained** model to get the final test accuracy.\n",
    "\n",
    "For each of the test samples (there should be 5, see above), report the test accuracy and the corresponding hyper-parameter setting (the one chosen as best for this specific split).\n",
    "\n",
    "Are the hyper-parameter parameters the same for all the test sets? **Discuss** if you think this is  normal or not, why it happens and if it creates some difficulties for interpreting the model. **There is no single correct answer here!** We want to see that you undertand the procedure and that you use your brain.\n",
    "\n"
   ]
  },
  {
   "cell_type": "markdown",
   "metadata": {},
   "source": [
    "# Train and test decision tree\n",
    "\n",
    "Use the same general procedure to train a decision tree.\n",
    "\n",
    "Hyper-parameters for decision trees are the pre-prunning criteria such as maximum number of leafs (see *Course 5 - 02 Decision tree prunning*). \n",
    "Pick one of these and use at least 5 different values. **Tell us which one you pick and what values you are using.**\n",
    "\n",
    "Calculate and report the test accuracies together with their corresponding heper-parameter values. (No more comments needed here.)"
   ]
  },
  {
   "cell_type": "markdown",
   "metadata": {},
   "source": [
    "# Train and test default classifier\n",
    "\n",
    "Default classifier has no hyper-parameters, so you can skip the inner-cross validatoin procedure.\n",
    "\n",
    "Calculate and report the test accuracies for the 5 test sets from the part *Data splits for model evaluation*"
   ]
  },
  {
   "cell_type": "markdown",
   "metadata": {},
   "source": [
    "# Compare models\n",
    "\n",
    "Once you have all your test accuracies for the nearest neighbour, decision trees and default classifier, calculate the estimated generalization accuracy of each (the everage accuracy accross the test sets).\n",
    "\n",
    "Is any of the algorithms peforming better than the other two? **Discuss, comment.**\n",
    "\n",
    "## Use the McNemar test \n",
    "\n",
    "Use the McNemar test to verify whether the differences in the generalization accuracy are significant. \n",
    "\n",
    "In McNemar you can always compare only two algorithms. Do all the pair-wise comparisons, present and **explain** the results. Are these what you would expect?"
   ]
  },
  {
   "cell_type": "code",
   "execution_count": null,
   "metadata": {},
   "outputs": [],
   "source": []
  }
 ],
 "metadata": {
  "kernelspec": {
   "display_name": "Python 3",
   "language": "python",
   "name": "python3"
  },
  "language_info": {
   "codemirror_mode": {
    "name": "ipython",
    "version": 3
   },
   "file_extension": ".py",
   "mimetype": "text/x-python",
   "name": "python",
   "nbconvert_exporter": "python",
   "pygments_lexer": "ipython3",
   "version": "3.6.5"
  }
 },
 "nbformat": 4,
 "nbformat_minor": 2
}
